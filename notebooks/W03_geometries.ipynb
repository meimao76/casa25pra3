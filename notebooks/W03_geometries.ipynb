{
  "cells": [
    {
      "cell_type": "markdown",
      "metadata": {
        "id": "view-in-github",
        "colab_type": "text"
      },
      "source": [
        "<a href=\"https://colab.research.google.com/github/meimao76/casa25pra3/blob/main/notebooks/W03_geometries.ipynb\" target=\"_parent\"><img src=\"https://colab.research.google.com/assets/colab-badge.svg\" alt=\"Open In Colab\"/></a>"
      ]
    },
    {
      "cell_type": "markdown",
      "metadata": {
        "id": "lTWktL9_PG4G"
      },
      "source": [
        "# Working with Geometries\n",
        "\n",
        "## Introduction\n",
        "\n",
        "This notebook demonstrates how to work with geometries in DuckDB.\n",
        "\n",
        "## Installation\n",
        "\n",
        "Uncomment the following cell to install the required packages if needed."
      ],
      "id": "lTWktL9_PG4G"
    },
    {
      "cell_type": "code",
      "execution_count": 2,
      "metadata": {
        "colab": {
          "base_uri": "https://localhost:8080/"
        },
        "id": "leV_MhWuPG4L",
        "outputId": "066586f6-9ffc-4ea8-e450-efdaca2c5eb5"
      },
      "outputs": [
        {
          "output_type": "stream",
          "name": "stdout",
          "text": [
            "Requirement already satisfied: duckdb in /usr/local/lib/python3.11/dist-packages (1.1.3)\n",
            "Collecting leafmap\n",
            "  Downloading leafmap-0.42.9-py2.py3-none-any.whl.metadata (16 kB)\n",
            "Collecting anywidget (from leafmap)\n",
            "  Downloading anywidget-0.9.13-py3-none-any.whl.metadata (7.2 kB)\n",
            "Requirement already satisfied: bqplot in /usr/local/lib/python3.11/dist-packages (from leafmap) (0.12.44)\n",
            "Requirement already satisfied: colour in /usr/local/lib/python3.11/dist-packages (from leafmap) (0.1.5)\n",
            "Requirement already satisfied: folium in /usr/local/lib/python3.11/dist-packages (from leafmap) (0.19.4)\n",
            "Requirement already satisfied: gdown in /usr/local/lib/python3.11/dist-packages (from leafmap) (5.2.0)\n",
            "Collecting geojson (from leafmap)\n",
            "  Downloading geojson-3.2.0-py3-none-any.whl.metadata (16 kB)\n",
            "Requirement already satisfied: ipyevents in /usr/local/lib/python3.11/dist-packages (from leafmap) (2.0.2)\n",
            "Requirement already satisfied: ipyfilechooser in /usr/local/lib/python3.11/dist-packages (from leafmap) (0.6.0)\n",
            "Requirement already satisfied: ipyleaflet in /usr/local/lib/python3.11/dist-packages (from leafmap) (0.19.2)\n",
            "Collecting ipyvuetify (from leafmap)\n",
            "  Downloading ipyvuetify-1.10.0-py2.py3-none-any.whl.metadata (7.5 kB)\n",
            "Requirement already satisfied: ipywidgets in /usr/local/lib/python3.11/dist-packages (from leafmap) (7.7.1)\n",
            "Requirement already satisfied: matplotlib in /usr/local/lib/python3.11/dist-packages (from leafmap) (3.10.0)\n",
            "Requirement already satisfied: numpy in /usr/local/lib/python3.11/dist-packages (from leafmap) (1.26.4)\n",
            "Requirement already satisfied: pandas in /usr/local/lib/python3.11/dist-packages (from leafmap) (2.2.2)\n",
            "Requirement already satisfied: plotly in /usr/local/lib/python3.11/dist-packages (from leafmap) (5.24.1)\n",
            "Requirement already satisfied: psutil in /usr/local/lib/python3.11/dist-packages (from leafmap) (5.9.5)\n",
            "Requirement already satisfied: pyshp in /usr/local/lib/python3.11/dist-packages (from leafmap) (2.3.1)\n",
            "Collecting pystac-client (from leafmap)\n",
            "  Downloading pystac_client-0.8.5-py3-none-any.whl.metadata (5.1 kB)\n",
            "Requirement already satisfied: python-box in /usr/local/lib/python3.11/dist-packages (from leafmap) (7.3.2)\n",
            "Requirement already satisfied: scooby in /usr/local/lib/python3.11/dist-packages (from leafmap) (0.10.0)\n",
            "Collecting whiteboxgui (from leafmap)\n",
            "  Downloading whiteboxgui-2.3.0-py2.py3-none-any.whl.metadata (5.7 kB)\n",
            "Requirement already satisfied: xyzservices in /usr/local/lib/python3.11/dist-packages (from leafmap) (2025.1.0)\n",
            "Collecting psygnal>=0.8.1 (from anywidget->leafmap)\n",
            "  Downloading psygnal-0.12.0-cp311-cp311-manylinux_2_17_x86_64.manylinux2014_x86_64.whl.metadata (7.7 kB)\n",
            "Requirement already satisfied: typing-extensions>=4.2.0 in /usr/local/lib/python3.11/dist-packages (from anywidget->leafmap) (4.12.2)\n",
            "Requirement already satisfied: ipykernel>=4.5.1 in /usr/local/lib/python3.11/dist-packages (from ipywidgets->leafmap) (5.5.6)\n",
            "Requirement already satisfied: ipython-genutils~=0.2.0 in /usr/local/lib/python3.11/dist-packages (from ipywidgets->leafmap) (0.2.0)\n",
            "Requirement already satisfied: traitlets>=4.3.1 in /usr/local/lib/python3.11/dist-packages (from ipywidgets->leafmap) (5.7.1)\n",
            "Requirement already satisfied: widgetsnbextension~=3.6.0 in /usr/local/lib/python3.11/dist-packages (from ipywidgets->leafmap) (3.6.10)\n",
            "Requirement already satisfied: ipython>=4.0.0 in /usr/local/lib/python3.11/dist-packages (from ipywidgets->leafmap) (7.34.0)\n",
            "Requirement already satisfied: jupyterlab-widgets>=1.0.0 in /usr/local/lib/python3.11/dist-packages (from ipywidgets->leafmap) (3.0.13)\n",
            "Requirement already satisfied: traittypes>=0.0.6 in /usr/local/lib/python3.11/dist-packages (from bqplot->leafmap) (0.2.1)\n",
            "Requirement already satisfied: python-dateutil>=2.8.2 in /usr/local/lib/python3.11/dist-packages (from pandas->leafmap) (2.8.2)\n",
            "Requirement already satisfied: pytz>=2020.1 in /usr/local/lib/python3.11/dist-packages (from pandas->leafmap) (2025.1)\n",
            "Requirement already satisfied: tzdata>=2022.7 in /usr/local/lib/python3.11/dist-packages (from pandas->leafmap) (2025.1)\n",
            "Requirement already satisfied: branca>=0.6.0 in /usr/local/lib/python3.11/dist-packages (from folium->leafmap) (0.8.1)\n",
            "Requirement already satisfied: jinja2>=2.9 in /usr/local/lib/python3.11/dist-packages (from folium->leafmap) (3.1.5)\n",
            "Requirement already satisfied: requests in /usr/local/lib/python3.11/dist-packages (from folium->leafmap) (2.32.3)\n",
            "Requirement already satisfied: beautifulsoup4 in /usr/local/lib/python3.11/dist-packages (from gdown->leafmap) (4.13.1)\n",
            "Requirement already satisfied: filelock in /usr/local/lib/python3.11/dist-packages (from gdown->leafmap) (3.17.0)\n",
            "Requirement already satisfied: tqdm in /usr/local/lib/python3.11/dist-packages (from gdown->leafmap) (4.67.1)\n",
            "Requirement already satisfied: jupyter-leaflet<0.20,>=0.19 in /usr/local/lib/python3.11/dist-packages (from ipyleaflet->leafmap) (0.19.2)\n",
            "Collecting ipyvue<2,>=1.7 (from ipyvuetify->leafmap)\n",
            "  Downloading ipyvue-1.11.2-py2.py3-none-any.whl.metadata (1.1 kB)\n",
            "Requirement already satisfied: contourpy>=1.0.1 in /usr/local/lib/python3.11/dist-packages (from matplotlib->leafmap) (1.3.1)\n",
            "Requirement already satisfied: cycler>=0.10 in /usr/local/lib/python3.11/dist-packages (from matplotlib->leafmap) (0.12.1)\n",
            "Requirement already satisfied: fonttools>=4.22.0 in /usr/local/lib/python3.11/dist-packages (from matplotlib->leafmap) (4.55.8)\n",
            "Requirement already satisfied: kiwisolver>=1.3.1 in /usr/local/lib/python3.11/dist-packages (from matplotlib->leafmap) (1.4.8)\n",
            "Requirement already satisfied: packaging>=20.0 in /usr/local/lib/python3.11/dist-packages (from matplotlib->leafmap) (24.2)\n",
            "Requirement already satisfied: pillow>=8 in /usr/local/lib/python3.11/dist-packages (from matplotlib->leafmap) (11.1.0)\n",
            "Requirement already satisfied: pyparsing>=2.3.1 in /usr/local/lib/python3.11/dist-packages (from matplotlib->leafmap) (3.2.1)\n",
            "Requirement already satisfied: tenacity>=6.2.0 in /usr/local/lib/python3.11/dist-packages (from plotly->leafmap) (9.0.0)\n",
            "Collecting pystac>=1.10.0 (from pystac[validation]>=1.10.0->pystac-client->leafmap)\n",
            "  Downloading pystac-1.12.1-py3-none-any.whl.metadata (4.6 kB)\n",
            "Requirement already satisfied: ipytree in /usr/local/lib/python3.11/dist-packages (from whiteboxgui->leafmap) (0.2.2)\n",
            "Collecting whitebox (from whiteboxgui->leafmap)\n",
            "  Downloading whitebox-2.3.5-py2.py3-none-any.whl.metadata (10 kB)\n",
            "Requirement already satisfied: jupyter-client in /usr/local/lib/python3.11/dist-packages (from ipykernel>=4.5.1->ipywidgets->leafmap) (6.1.12)\n",
            "Requirement already satisfied: tornado>=4.2 in /usr/local/lib/python3.11/dist-packages (from ipykernel>=4.5.1->ipywidgets->leafmap) (6.4.2)\n",
            "Requirement already satisfied: setuptools>=18.5 in /usr/local/lib/python3.11/dist-packages (from ipython>=4.0.0->ipywidgets->leafmap) (75.1.0)\n",
            "Collecting jedi>=0.16 (from ipython>=4.0.0->ipywidgets->leafmap)\n",
            "  Downloading jedi-0.19.2-py2.py3-none-any.whl.metadata (22 kB)\n",
            "Requirement already satisfied: decorator in /usr/local/lib/python3.11/dist-packages (from ipython>=4.0.0->ipywidgets->leafmap) (4.4.2)\n",
            "Requirement already satisfied: pickleshare in /usr/local/lib/python3.11/dist-packages (from ipython>=4.0.0->ipywidgets->leafmap) (0.7.5)\n",
            "Requirement already satisfied: prompt-toolkit!=3.0.0,!=3.0.1,<3.1.0,>=2.0.0 in /usr/local/lib/python3.11/dist-packages (from ipython>=4.0.0->ipywidgets->leafmap) (3.0.50)\n",
            "Requirement already satisfied: pygments in /usr/local/lib/python3.11/dist-packages (from ipython>=4.0.0->ipywidgets->leafmap) (2.18.0)\n",
            "Requirement already satisfied: backcall in /usr/local/lib/python3.11/dist-packages (from ipython>=4.0.0->ipywidgets->leafmap) (0.2.0)\n",
            "Requirement already satisfied: matplotlib-inline in /usr/local/lib/python3.11/dist-packages (from ipython>=4.0.0->ipywidgets->leafmap) (0.1.7)\n",
            "Requirement already satisfied: pexpect>4.3 in /usr/local/lib/python3.11/dist-packages (from ipython>=4.0.0->ipywidgets->leafmap) (4.9.0)\n",
            "Requirement already satisfied: MarkupSafe>=2.0 in /usr/local/lib/python3.11/dist-packages (from jinja2>=2.9->folium->leafmap) (3.0.2)\n",
            "Requirement already satisfied: jsonschema~=4.18 in /usr/local/lib/python3.11/dist-packages (from pystac[validation]>=1.10.0->pystac-client->leafmap) (4.23.0)\n",
            "Requirement already satisfied: six>=1.5 in /usr/local/lib/python3.11/dist-packages (from python-dateutil>=2.8.2->pandas->leafmap) (1.17.0)\n",
            "Requirement already satisfied: charset-normalizer<4,>=2 in /usr/local/lib/python3.11/dist-packages (from requests->folium->leafmap) (3.4.1)\n",
            "Requirement already satisfied: idna<4,>=2.5 in /usr/local/lib/python3.11/dist-packages (from requests->folium->leafmap) (3.10)\n",
            "Requirement already satisfied: urllib3<3,>=1.21.1 in /usr/local/lib/python3.11/dist-packages (from requests->folium->leafmap) (2.3.0)\n",
            "Requirement already satisfied: certifi>=2017.4.17 in /usr/local/lib/python3.11/dist-packages (from requests->folium->leafmap) (2025.1.31)\n",
            "Requirement already satisfied: notebook>=4.4.1 in /usr/local/lib/python3.11/dist-packages (from widgetsnbextension~=3.6.0->ipywidgets->leafmap) (6.5.5)\n",
            "Requirement already satisfied: soupsieve>1.2 in /usr/local/lib/python3.11/dist-packages (from beautifulsoup4->gdown->leafmap) (2.6)\n",
            "Requirement already satisfied: PySocks!=1.5.7,>=1.5.6 in /usr/local/lib/python3.11/dist-packages (from requests[socks]->gdown->leafmap) (1.7.1)\n",
            "Requirement already satisfied: Click>=6.0 in /usr/local/lib/python3.11/dist-packages (from whitebox->whiteboxgui->leafmap) (8.1.8)\n",
            "Requirement already satisfied: parso<0.9.0,>=0.8.4 in /usr/local/lib/python3.11/dist-packages (from jedi>=0.16->ipython>=4.0.0->ipywidgets->leafmap) (0.8.4)\n",
            "Requirement already satisfied: attrs>=22.2.0 in /usr/local/lib/python3.11/dist-packages (from jsonschema~=4.18->pystac[validation]>=1.10.0->pystac-client->leafmap) (25.1.0)\n",
            "Requirement already satisfied: jsonschema-specifications>=2023.03.6 in /usr/local/lib/python3.11/dist-packages (from jsonschema~=4.18->pystac[validation]>=1.10.0->pystac-client->leafmap) (2024.10.1)\n",
            "Requirement already satisfied: referencing>=0.28.4 in /usr/local/lib/python3.11/dist-packages (from jsonschema~=4.18->pystac[validation]>=1.10.0->pystac-client->leafmap) (0.36.2)\n",
            "Requirement already satisfied: rpds-py>=0.7.1 in /usr/local/lib/python3.11/dist-packages (from jsonschema~=4.18->pystac[validation]>=1.10.0->pystac-client->leafmap) (0.22.3)\n",
            "Requirement already satisfied: pyzmq<25,>=17 in /usr/local/lib/python3.11/dist-packages (from notebook>=4.4.1->widgetsnbextension~=3.6.0->ipywidgets->leafmap) (24.0.1)\n",
            "Requirement already satisfied: argon2-cffi in /usr/local/lib/python3.11/dist-packages (from notebook>=4.4.1->widgetsnbextension~=3.6.0->ipywidgets->leafmap) (23.1.0)\n",
            "Requirement already satisfied: jupyter-core>=4.6.1 in /usr/local/lib/python3.11/dist-packages (from notebook>=4.4.1->widgetsnbextension~=3.6.0->ipywidgets->leafmap) (5.7.2)\n",
            "Requirement already satisfied: nbformat in /usr/local/lib/python3.11/dist-packages (from notebook>=4.4.1->widgetsnbextension~=3.6.0->ipywidgets->leafmap) (5.10.4)\n",
            "Requirement already satisfied: nbconvert>=5 in /usr/local/lib/python3.11/dist-packages (from notebook>=4.4.1->widgetsnbextension~=3.6.0->ipywidgets->leafmap) (7.16.6)\n",
            "Requirement already satisfied: nest-asyncio>=1.5 in /usr/local/lib/python3.11/dist-packages (from notebook>=4.4.1->widgetsnbextension~=3.6.0->ipywidgets->leafmap) (1.6.0)\n",
            "Requirement already satisfied: Send2Trash>=1.8.0 in /usr/local/lib/python3.11/dist-packages (from notebook>=4.4.1->widgetsnbextension~=3.6.0->ipywidgets->leafmap) (1.8.3)\n",
            "Requirement already satisfied: terminado>=0.8.3 in /usr/local/lib/python3.11/dist-packages (from notebook>=4.4.1->widgetsnbextension~=3.6.0->ipywidgets->leafmap) (0.18.1)\n",
            "Requirement already satisfied: prometheus-client in /usr/local/lib/python3.11/dist-packages (from notebook>=4.4.1->widgetsnbextension~=3.6.0->ipywidgets->leafmap) (0.21.1)\n",
            "Requirement already satisfied: nbclassic>=0.4.7 in /usr/local/lib/python3.11/dist-packages (from notebook>=4.4.1->widgetsnbextension~=3.6.0->ipywidgets->leafmap) (1.2.0)\n",
            "Requirement already satisfied: ptyprocess>=0.5 in /usr/local/lib/python3.11/dist-packages (from pexpect>4.3->ipython>=4.0.0->ipywidgets->leafmap) (0.7.0)\n",
            "Requirement already satisfied: wcwidth in /usr/local/lib/python3.11/dist-packages (from prompt-toolkit!=3.0.0,!=3.0.1,<3.1.0,>=2.0.0->ipython>=4.0.0->ipywidgets->leafmap) (0.2.13)\n",
            "Requirement already satisfied: platformdirs>=2.5 in /usr/local/lib/python3.11/dist-packages (from jupyter-core>=4.6.1->notebook>=4.4.1->widgetsnbextension~=3.6.0->ipywidgets->leafmap) (4.3.6)\n",
            "Requirement already satisfied: notebook-shim>=0.2.3 in /usr/local/lib/python3.11/dist-packages (from nbclassic>=0.4.7->notebook>=4.4.1->widgetsnbextension~=3.6.0->ipywidgets->leafmap) (0.2.4)\n",
            "Requirement already satisfied: bleach!=5.0.0 in /usr/local/lib/python3.11/dist-packages (from bleach[css]!=5.0.0->nbconvert>=5->notebook>=4.4.1->widgetsnbextension~=3.6.0->ipywidgets->leafmap) (6.2.0)\n",
            "Requirement already satisfied: defusedxml in /usr/local/lib/python3.11/dist-packages (from nbconvert>=5->notebook>=4.4.1->widgetsnbextension~=3.6.0->ipywidgets->leafmap) (0.7.1)\n",
            "Requirement already satisfied: jupyterlab-pygments in /usr/local/lib/python3.11/dist-packages (from nbconvert>=5->notebook>=4.4.1->widgetsnbextension~=3.6.0->ipywidgets->leafmap) (0.3.0)\n",
            "Requirement already satisfied: mistune<4,>=2.0.3 in /usr/local/lib/python3.11/dist-packages (from nbconvert>=5->notebook>=4.4.1->widgetsnbextension~=3.6.0->ipywidgets->leafmap) (3.1.1)\n",
            "Requirement already satisfied: nbclient>=0.5.0 in /usr/local/lib/python3.11/dist-packages (from nbconvert>=5->notebook>=4.4.1->widgetsnbextension~=3.6.0->ipywidgets->leafmap) (0.10.2)\n",
            "Requirement already satisfied: pandocfilters>=1.4.1 in /usr/local/lib/python3.11/dist-packages (from nbconvert>=5->notebook>=4.4.1->widgetsnbextension~=3.6.0->ipywidgets->leafmap) (1.5.1)\n",
            "Requirement already satisfied: fastjsonschema>=2.15 in /usr/local/lib/python3.11/dist-packages (from nbformat->notebook>=4.4.1->widgetsnbextension~=3.6.0->ipywidgets->leafmap) (2.21.1)\n",
            "Requirement already satisfied: argon2-cffi-bindings in /usr/local/lib/python3.11/dist-packages (from argon2-cffi->notebook>=4.4.1->widgetsnbextension~=3.6.0->ipywidgets->leafmap) (21.2.0)\n",
            "Requirement already satisfied: webencodings in /usr/local/lib/python3.11/dist-packages (from bleach!=5.0.0->bleach[css]!=5.0.0->nbconvert>=5->notebook>=4.4.1->widgetsnbextension~=3.6.0->ipywidgets->leafmap) (0.5.1)\n",
            "Requirement already satisfied: tinycss2<1.5,>=1.1.0 in /usr/local/lib/python3.11/dist-packages (from bleach[css]!=5.0.0->nbconvert>=5->notebook>=4.4.1->widgetsnbextension~=3.6.0->ipywidgets->leafmap) (1.4.0)\n",
            "Requirement already satisfied: jupyter-server<3,>=1.8 in /usr/local/lib/python3.11/dist-packages (from notebook-shim>=0.2.3->nbclassic>=0.4.7->notebook>=4.4.1->widgetsnbextension~=3.6.0->ipywidgets->leafmap) (1.24.0)\n",
            "Requirement already satisfied: cffi>=1.0.1 in /usr/local/lib/python3.11/dist-packages (from argon2-cffi-bindings->argon2-cffi->notebook>=4.4.1->widgetsnbextension~=3.6.0->ipywidgets->leafmap) (1.17.1)\n",
            "Requirement already satisfied: pycparser in /usr/local/lib/python3.11/dist-packages (from cffi>=1.0.1->argon2-cffi-bindings->argon2-cffi->notebook>=4.4.1->widgetsnbextension~=3.6.0->ipywidgets->leafmap) (2.22)\n",
            "Requirement already satisfied: anyio<4,>=3.1.0 in /usr/local/lib/python3.11/dist-packages (from jupyter-server<3,>=1.8->notebook-shim>=0.2.3->nbclassic>=0.4.7->notebook>=4.4.1->widgetsnbextension~=3.6.0->ipywidgets->leafmap) (3.7.1)\n",
            "Requirement already satisfied: websocket-client in /usr/local/lib/python3.11/dist-packages (from jupyter-server<3,>=1.8->notebook-shim>=0.2.3->nbclassic>=0.4.7->notebook>=4.4.1->widgetsnbextension~=3.6.0->ipywidgets->leafmap) (1.8.0)\n",
            "Requirement already satisfied: sniffio>=1.1 in /usr/local/lib/python3.11/dist-packages (from anyio<4,>=3.1.0->jupyter-server<3,>=1.8->notebook-shim>=0.2.3->nbclassic>=0.4.7->notebook>=4.4.1->widgetsnbextension~=3.6.0->ipywidgets->leafmap) (1.3.1)\n",
            "Downloading leafmap-0.42.9-py2.py3-none-any.whl (515 kB)\n",
            "\u001b[2K   \u001b[90m━━━━━━━━━━━━━━━━━━━━━━━━━━━━━━━━━━━━━━━━\u001b[0m \u001b[32m515.2/515.2 kB\u001b[0m \u001b[31m5.4 MB/s\u001b[0m eta \u001b[36m0:00:00\u001b[0m\n",
            "\u001b[?25hDownloading anywidget-0.9.13-py3-none-any.whl (213 kB)\n",
            "\u001b[2K   \u001b[90m━━━━━━━━━━━━━━━━━━━━━━━━━━━━━━━━━━━━━━━━\u001b[0m \u001b[32m213.7/213.7 kB\u001b[0m \u001b[31m20.4 MB/s\u001b[0m eta \u001b[36m0:00:00\u001b[0m\n",
            "\u001b[?25hDownloading geojson-3.2.0-py3-none-any.whl (15 kB)\n",
            "Downloading ipyvuetify-1.10.0-py2.py3-none-any.whl (6.1 MB)\n",
            "\u001b[2K   \u001b[90m━━━━━━━━━━━━━━━━━━━━━━━━━━━━━━━━━━━━━━━━\u001b[0m \u001b[32m6.1/6.1 MB\u001b[0m \u001b[31m53.1 MB/s\u001b[0m eta \u001b[36m0:00:00\u001b[0m\n",
            "\u001b[?25hDownloading pystac_client-0.8.5-py3-none-any.whl (41 kB)\n",
            "\u001b[2K   \u001b[90m━━━━━━━━━━━━━━━━━━━━━━━━━━━━━━━━━━━━━━━━\u001b[0m \u001b[32m41.9/41.9 kB\u001b[0m \u001b[31m3.7 MB/s\u001b[0m eta \u001b[36m0:00:00\u001b[0m\n",
            "\u001b[?25hDownloading whiteboxgui-2.3.0-py2.py3-none-any.whl (108 kB)\n",
            "\u001b[2K   \u001b[90m━━━━━━━━━━━━━━━━━━━━━━━━━━━━━━━━━━━━━━━━\u001b[0m \u001b[32m108.6/108.6 kB\u001b[0m \u001b[31m11.2 MB/s\u001b[0m eta \u001b[36m0:00:00\u001b[0m\n",
            "\u001b[?25hDownloading ipyvue-1.11.2-py2.py3-none-any.whl (2.7 MB)\n",
            "\u001b[2K   \u001b[90m━━━━━━━━━━━━━━━━━━━━━━━━━━━━━━━━━━━━━━━━\u001b[0m \u001b[32m2.7/2.7 MB\u001b[0m \u001b[31m81.6 MB/s\u001b[0m eta \u001b[36m0:00:00\u001b[0m\n",
            "\u001b[?25hDownloading psygnal-0.12.0-cp311-cp311-manylinux_2_17_x86_64.manylinux2014_x86_64.whl (765 kB)\n",
            "\u001b[2K   \u001b[90m━━━━━━━━━━━━━━━━━━━━━━━━━━━━━━━━━━━━━━━━\u001b[0m \u001b[32m765.5/765.5 kB\u001b[0m \u001b[31m46.4 MB/s\u001b[0m eta \u001b[36m0:00:00\u001b[0m\n",
            "\u001b[?25hDownloading pystac-1.12.1-py3-none-any.whl (194 kB)\n",
            "\u001b[2K   \u001b[90m━━━━━━━━━━━━━━━━━━━━━━━━━━━━━━━━━━━━━━━━\u001b[0m \u001b[32m194.2/194.2 kB\u001b[0m \u001b[31m19.0 MB/s\u001b[0m eta \u001b[36m0:00:00\u001b[0m\n",
            "\u001b[?25hDownloading whitebox-2.3.5-py2.py3-none-any.whl (72 kB)\n",
            "\u001b[2K   \u001b[90m━━━━━━━━━━━━━━━━━━━━━━━━━━━━━━━━━━━━━━━━\u001b[0m \u001b[32m72.4/72.4 kB\u001b[0m \u001b[31m6.7 MB/s\u001b[0m eta \u001b[36m0:00:00\u001b[0m\n",
            "\u001b[?25hDownloading jedi-0.19.2-py2.py3-none-any.whl (1.6 MB)\n",
            "\u001b[2K   \u001b[90m━━━━━━━━━━━━━━━━━━━━━━━━━━━━━━━━━━━━━━━━\u001b[0m \u001b[32m1.6/1.6 MB\u001b[0m \u001b[31m71.7 MB/s\u001b[0m eta \u001b[36m0:00:00\u001b[0m\n",
            "\u001b[?25hInstalling collected packages: whitebox, psygnal, jedi, geojson, pystac, pystac-client, ipyvue, anywidget, whiteboxgui, ipyvuetify, leafmap\n",
            "Successfully installed anywidget-0.9.13 geojson-3.2.0 ipyvue-1.11.2 ipyvuetify-1.10.0 jedi-0.19.2 leafmap-0.42.9 psygnal-0.12.0 pystac-1.12.1 pystac-client-0.8.5 whitebox-2.3.5 whiteboxgui-2.3.0\n"
          ]
        }
      ],
      "source": [
        "%pip install duckdb leafmap"
      ],
      "id": "leV_MhWuPG4L"
    },
    {
      "cell_type": "markdown",
      "metadata": {
        "id": "yu3bCeyUPG4M"
      },
      "source": [
        "## Library Import and Configuration"
      ],
      "id": "yu3bCeyUPG4M"
    },
    {
      "cell_type": "code",
      "execution_count": 1,
      "metadata": {
        "colab": {
          "base_uri": "https://localhost:8080/",
          "height": 333
        },
        "id": "ePrJa6mPPG4N",
        "outputId": "0effbe86-4a06-4321-dd73-f4d8fa22f59d"
      },
      "outputs": [
        {
          "output_type": "error",
          "ename": "ModuleNotFoundError",
          "evalue": "No module named 'leafmap'",
          "traceback": [
            "\u001b[0;31m---------------------------------------------------------------------------\u001b[0m",
            "\u001b[0;31mModuleNotFoundError\u001b[0m                       Traceback (most recent call last)",
            "\u001b[0;32m<ipython-input-1-5a80eb322fa0>\u001b[0m in \u001b[0;36m<cell line: 0>\u001b[0;34m()\u001b[0m\n\u001b[1;32m      1\u001b[0m \u001b[0;32mimport\u001b[0m \u001b[0mduckdb\u001b[0m\u001b[0;34m\u001b[0m\u001b[0;34m\u001b[0m\u001b[0m\n\u001b[0;32m----> 2\u001b[0;31m \u001b[0;32mimport\u001b[0m \u001b[0mleafmap\u001b[0m\u001b[0;34m\u001b[0m\u001b[0;34m\u001b[0m\u001b[0m\n\u001b[0m",
            "\u001b[0;31mModuleNotFoundError\u001b[0m: No module named 'leafmap'",
            "",
            "\u001b[0;31m---------------------------------------------------------------------------\u001b[0;32m\nNOTE: If your import is failing due to a missing package, you can\nmanually install dependencies using either !pip or !apt.\n\nTo view examples of installing some common dependencies, click the\n\"Open Examples\" button below.\n\u001b[0;31m---------------------------------------------------------------------------\u001b[0m\n"
          ],
          "errorDetails": {
            "actions": [
              {
                "action": "open_url",
                "actionText": "Open Examples",
                "url": "/notebooks/snippets/importing_libraries.ipynb"
              }
            ]
          }
        }
      ],
      "source": [
        "import duckdb\n",
        "import leafmap"
      ],
      "id": "ePrJa6mPPG4N"
    },
    {
      "cell_type": "markdown",
      "metadata": {
        "id": "gozkf2WPPG4O"
      },
      "source": [
        "## Sample Data\n",
        "\n",
        "The datasets in the database are in NAD83 / UTM zone 18N projection, EPSG:26918."
      ],
      "id": "gozkf2WPPG4O"
    },
    {
      "cell_type": "code",
      "execution_count": null,
      "metadata": {
        "id": "FkEVjwp_PG4O"
      },
      "outputs": [],
      "source": [
        "url = \"https://open.gishub.org/data/duckdb/nyc_data.db.zip\"\n",
        "leafmap.download_file(url, unzip=True)"
      ],
      "id": "FkEVjwp_PG4O"
    },
    {
      "cell_type": "markdown",
      "metadata": {
        "id": "CF4QO2ctPG4O"
      },
      "source": [
        "## Connecting to DuckDB\n",
        "\n",
        "Connect jupysql to DuckDB using a SQLAlchemy-style connection string. You may either connect to an in memory DuckDB, or a file backed db."
      ],
      "id": "CF4QO2ctPG4O"
    },
    {
      "cell_type": "code",
      "execution_count": null,
      "metadata": {
        "id": "frQgl4OzPG4P"
      },
      "outputs": [],
      "source": [
        "con = duckdb.connect(\"nyc_data.db\")"
      ],
      "id": "frQgl4OzPG4P"
    },
    {
      "cell_type": "code",
      "execution_count": null,
      "metadata": {
        "id": "nKGd4TTzPG4P"
      },
      "outputs": [],
      "source": [
        "con.install_extension(\"spatial\")\n",
        "con.load_extension(\"spatial\")"
      ],
      "id": "nKGd4TTzPG4P"
    },
    {
      "cell_type": "code",
      "execution_count": null,
      "metadata": {
        "id": "7cjs035EPG4P"
      },
      "outputs": [],
      "source": [
        "con.sql(\"SHOW TABLES;\")"
      ],
      "id": "7cjs035EPG4P"
    },
    {
      "cell_type": "markdown",
      "metadata": {
        "id": "VQ7VlyPSPG4Q"
      },
      "source": [
        "## Creating samples"
      ],
      "id": "VQ7VlyPSPG4Q"
    },
    {
      "cell_type": "code",
      "execution_count": null,
      "metadata": {
        "id": "xwWCuCczPG4Q"
      },
      "outputs": [],
      "source": [
        "con.sql(\"\"\"\n",
        "\n",
        "CREATE or REPLACE TABLE samples (name VARCHAR, geom GEOMETRY);\n",
        "\n",
        "INSERT INTO samples VALUES\n",
        "  ('Point', ST_GeomFromText('POINT(-100 40)')),\n",
        "  ('Linestring', ST_GeomFromText('LINESTRING(0 0, 1 1, 2 1, 2 2)')),\n",
        "  ('Polygon', ST_GeomFromText('POLYGON((0 0, 1 0, 1 1, 0 1, 0 0))')),\n",
        "  ('PolygonWithHole', ST_GeomFromText('POLYGON((0 0, 10 0, 10 10, 0 10, 0 0),(1 1, 1 2, 2 2, 2 1, 1 1))')),\n",
        "  ('Collection', ST_GeomFromText('GEOMETRYCOLLECTION(POINT(2 0),POLYGON((0 0, 1 0, 1 1, 0 1, 0 0)))'));\n",
        "\n",
        "SELECT * FROM samples;\n",
        "\n",
        "  \"\"\")"
      ],
      "id": "xwWCuCczPG4Q"
    },
    {
      "cell_type": "code",
      "execution_count": null,
      "metadata": {
        "id": "3szMfGH1PG4R"
      },
      "outputs": [],
      "source": [
        "con.sql(\"SELECT name, ST_AsText(geom) AS geometry FROM samples;\")"
      ],
      "id": "3szMfGH1PG4R"
    },
    {
      "cell_type": "code",
      "execution_count": null,
      "metadata": {
        "id": "h12roD5bPG4S"
      },
      "outputs": [],
      "source": [
        "con.sql(\"\"\"\n",
        "\n",
        "COPY samples TO 'samples.geojson' (FORMAT GDAL, DRIVER GeoJSON);\n",
        "\n",
        "\"\"\")"
      ],
      "id": "h12roD5bPG4S"
    },
    {
      "cell_type": "markdown",
      "metadata": {
        "id": "BLt5hnA-PG4S"
      },
      "source": [
        "## Points\n",
        "\n",
        "![](https://postgis.net/workshops/postgis-intro/_images/points.png)\n",
        "\n",
        "A spatial point represents a single location on the Earth. This point is represented by a single coordinate (including either 2-, 3- or 4-dimensions). Points are used to represent objects when the exact details, such as shape and size, are not important at the target scale. For example, cities on a map of the world can be described as points, while a map of a single state might represent cities as polygons.\n"
      ],
      "id": "BLt5hnA-PG4S"
    },
    {
      "cell_type": "code",
      "execution_count": null,
      "metadata": {
        "id": "_Mr-fuZvPG4T"
      },
      "outputs": [],
      "source": [
        "con.sql(\"\"\"\n",
        "\n",
        "SELECT ST_AsText(geom)\n",
        "  FROM samples\n",
        "  WHERE name = 'Point';\n",
        "\n",
        "\"\"\")"
      ],
      "id": "_Mr-fuZvPG4T"
    },
    {
      "cell_type": "markdown",
      "metadata": {
        "id": "2_OY1C-RPG4T"
      },
      "source": [
        "Some of the specific spatial functions for working with points are:\n",
        "\n",
        "- **ST_X(geom)** returns the X ordinate\n",
        "- **ST_Y(geom)** returns the Y ordinate\n",
        "\n",
        "So, we can read the ordinates from a point like this:"
      ],
      "id": "2_OY1C-RPG4T"
    },
    {
      "cell_type": "code",
      "execution_count": null,
      "metadata": {
        "id": "KIGmbhLFPG4U"
      },
      "outputs": [],
      "source": [
        "con.sql(\"\"\"\n",
        "\n",
        "SELECT ST_X(geom), ST_Y(geom)\n",
        "  FROM samples\n",
        "  WHERE name = 'Point';\n",
        "\n",
        "\"\"\")"
      ],
      "id": "KIGmbhLFPG4U"
    },
    {
      "cell_type": "code",
      "execution_count": null,
      "metadata": {
        "id": "RNSfZ8DrPG4U"
      },
      "outputs": [],
      "source": [
        "con.sql(\"\"\"\n",
        "\n",
        "SELECT * FROM nyc_subway_stations\n",
        "\n",
        "\"\"\")"
      ],
      "id": "RNSfZ8DrPG4U"
    },
    {
      "cell_type": "code",
      "execution_count": null,
      "metadata": {
        "id": "ZH-1rEhLPG4U"
      },
      "outputs": [],
      "source": [
        "con.sql(\"\"\"\n",
        "\n",
        "SELECT name, ST_AsText(geom)\n",
        "  FROM nyc_subway_stations\n",
        "  LIMIT 10;\n",
        "\n",
        "\"\"\")"
      ],
      "id": "ZH-1rEhLPG4U"
    },
    {
      "cell_type": "markdown",
      "metadata": {
        "id": "fx2oiLi_PG4U"
      },
      "source": [
        "## Linestrings\n",
        "\n",
        "![](https://postgis.net/workshops/postgis-intro/_images/lines.png)\n",
        "\n",
        "\n",
        "A **linestring** is a path between locations. It takes the form of an\n",
        "ordered series of two or more points. Roads and rivers are typically\n",
        "represented as linestrings. A linestring is said to be **closed** if it\n",
        "starts and ends on the same point. It is said to be **simple** if it\n",
        "does not cross or touch itself (except at its endpoints if it is\n",
        "closed). A linestring can be both **closed** and **simple**.\n",
        "\n",
        "The street network for New York (`nyc_streets`) was loaded earlier in\n",
        "the workshop. This dataset contains details such as name, and type. A\n",
        "single real world street may consist of many linestrings, each\n",
        "representing a segment of road with different attributes.\n",
        "\n",
        "The following SQL query will return the geometry associated with one\n",
        "linestring (in the `ST_AsText` column)."
      ],
      "id": "fx2oiLi_PG4U"
    },
    {
      "cell_type": "code",
      "execution_count": null,
      "metadata": {
        "id": "ZdLo2CcHPG4V"
      },
      "outputs": [],
      "source": [
        "con.sql(\"\"\"\n",
        "\n",
        "SELECT ST_AsText(geom)\n",
        "  FROM samples\n",
        "  WHERE name = 'Linestring';\n",
        "\n",
        "\"\"\")"
      ],
      "id": "ZdLo2CcHPG4V"
    },
    {
      "cell_type": "markdown",
      "metadata": {
        "id": "PT2vv9uvPG4V"
      },
      "source": [
        "Some of the specific spatial functions for working with linestrings are:\n",
        "\n",
        "-   `ST_Length(geom)` returns the length of the linestring\n",
        "-   `ST_StartPoint(geom)` returns the first coordinate as a point\n",
        "-   `ST_EndPoint(geom)` returns the last coordinate as a point\n",
        "-   `ST_NPoints(geom)` returns the number of coordinates in the\n",
        "    linestring\n",
        "\n",
        "So, the length of our linestring is:"
      ],
      "id": "PT2vv9uvPG4V"
    },
    {
      "cell_type": "code",
      "execution_count": null,
      "metadata": {
        "id": "hLys8i5_PG4V"
      },
      "outputs": [],
      "source": [
        "con.sql(\"\"\"\n",
        "\n",
        "SELECT ST_Length(geom)\n",
        "  FROM samples\n",
        "  WHERE name = 'Linestring';\n",
        "\n",
        "\"\"\")"
      ],
      "id": "hLys8i5_PG4V"
    },
    {
      "cell_type": "markdown",
      "metadata": {
        "id": "jYupyQ0_PG4V"
      },
      "source": [
        "## Polygons"
      ],
      "id": "jYupyQ0_PG4V"
    },
    {
      "cell_type": "markdown",
      "metadata": {
        "id": "KihxzibTPG4X"
      },
      "source": [
        "![](https://postgis.net/workshops/postgis-intro/_images/polygons.png)\n",
        "\n",
        "A polygon is a representation of an area. The outer boundary of the\n",
        "polygon is represented by a ring. This ring is a linestring that is both\n",
        "closed and simple as defined above. Holes within the polygon are also\n",
        "represented by rings.\n",
        "\n",
        "Polygons are used to represent objects whose size and shape are\n",
        "important. City limits, parks, building footprints or bodies of water\n",
        "are all commonly represented as polygons when the scale is sufficiently\n",
        "high to see their area. Roads and rivers can sometimes be represented as\n",
        "polygons.\n",
        "\n",
        "The following SQL query will return the geometry associated with one\n",
        "polygon (in the `ST_AsText` column)."
      ],
      "id": "KihxzibTPG4X"
    },
    {
      "cell_type": "code",
      "execution_count": null,
      "metadata": {
        "id": "7Zp15tZ3PG4X"
      },
      "outputs": [],
      "source": [
        "con.sql(\"\"\"\n",
        "\n",
        "SELECT ST_AsText(geom)\n",
        "  FROM samples\n",
        "  WHERE name LIKE 'Polygon%';\n",
        "\n",
        "\"\"\")"
      ],
      "id": "7Zp15tZ3PG4X"
    },
    {
      "cell_type": "markdown",
      "metadata": {
        "id": "ojLrDmmUPG4Y"
      },
      "source": [
        "Some of the specific spatial functions for working with polygons are:\n",
        "\n",
        "-   `ST_Area(geom)` returns the area of the polygons\n",
        "-   `ST_NRings(geom)` returns the number of rings (usually 1, more\n",
        "    of there are holes)\n",
        "-   `ST_ExteriorRing(geom)` returns the outer ring as a linestring\n",
        "-   `ST_InteriorRingN(geometry,n)` returns a specified interior ring as\n",
        "    a linestring\n",
        "-   `ST_Perimeter(geom)` returns the length of all the rings\n",
        "\n",
        "We can calculate the area of our polygons using the area function:"
      ],
      "id": "ojLrDmmUPG4Y"
    },
    {
      "cell_type": "code",
      "execution_count": null,
      "metadata": {
        "id": "J9SZXCMfPG4Y"
      },
      "outputs": [],
      "source": [
        "con.sql(\"\"\"\n",
        "\n",
        "SELECT name, ST_Area(geom)\n",
        "  FROM samples\n",
        "  WHERE name LIKE 'Polygon%';\n",
        "\n",
        "\"\"\")"
      ],
      "id": "J9SZXCMfPG4Y"
    },
    {
      "cell_type": "markdown",
      "metadata": {
        "id": "B8M_GcUfPG4Z"
      },
      "source": [
        "## Collections\n",
        "\n",
        "There are four collection types, which group multiple simple samples\n",
        "into sets.\n",
        "\n",
        "-   **MultiPoint**, a collection of points\n",
        "-   **MultiLineString**, a collection of linestrings\n",
        "-   **MultiPolygon**, a collection of polygons\n",
        "-   **GeometryCollection**, a heterogeneous collection of any geometry\n",
        "    (including other collections)\n",
        "\n",
        "Collections are another concept that shows up in GIS software more than\n",
        "in generic graphics software. They are useful for directly modeling real\n",
        "world objects as spatial objects. For example, how to model a lot that\n",
        "is split by a right-of-way? As a **MultiPolygon**, with a part on either\n",
        "side of the right-of-way.\n",
        "\n",
        "Our example collection contains a polygon and a point:"
      ],
      "id": "B8M_GcUfPG4Z"
    },
    {
      "cell_type": "code",
      "execution_count": null,
      "metadata": {
        "id": "6aC2qr5VPG4Z"
      },
      "outputs": [],
      "source": [
        "con.sql(\"\"\"\n",
        "\n",
        "SELECT name, ST_AsText(geom)\n",
        "  FROM samples\n",
        "  WHERE name = 'Collection';\n",
        "\n",
        "\"\"\")"
      ],
      "id": "6aC2qr5VPG4Z"
    },
    {
      "cell_type": "markdown",
      "metadata": {
        "id": "Te_qhZGOPG4a"
      },
      "source": [
        "## Data Visualization"
      ],
      "id": "Te_qhZGOPG4a"
    },
    {
      "cell_type": "code",
      "execution_count": null,
      "metadata": {
        "id": "uuv3xj_vPG4b"
      },
      "outputs": [],
      "source": [
        "con.sql(\"SHOW TABLES;\")"
      ],
      "id": "uuv3xj_vPG4b"
    },
    {
      "cell_type": "code",
      "execution_count": null,
      "metadata": {
        "id": "LqZw5dwrPG4c"
      },
      "outputs": [],
      "source": [
        "subway_stations_df = con.sql(\"SELECT * EXCLUDE geom, ST_AsText(geom) as geometry FROM nyc_subway_stations\").df()\n",
        "subway_stations_df.head()"
      ],
      "id": "LqZw5dwrPG4c"
    },
    {
      "cell_type": "code",
      "execution_count": null,
      "metadata": {
        "id": "8ZqBghmAPG4c"
      },
      "outputs": [],
      "source": [
        "subway_stations_gdf = leafmap.df_to_gdf(subway_stations_df, src_crs=\"EPSG:26918\", dst_crs=\"EPSG:4326\")\n",
        "subway_stations_gdf.head()"
      ],
      "id": "8ZqBghmAPG4c"
    },
    {
      "cell_type": "code",
      "execution_count": null,
      "metadata": {
        "id": "HnAcq73DPG4c"
      },
      "outputs": [],
      "source": [
        "subway_stations_gdf.explore()"
      ],
      "id": "HnAcq73DPG4c"
    },
    {
      "cell_type": "code",
      "execution_count": null,
      "metadata": {
        "id": "_rjrtQOXPG4d"
      },
      "outputs": [],
      "source": [
        "nyc_streets_df = con.sql(\"SELECT * EXCLUDE geom, ST_AsText(geom) as geometry FROM nyc_streets\").df()\n",
        "nyc_streets_df.head()"
      ],
      "id": "_rjrtQOXPG4d"
    },
    {
      "cell_type": "code",
      "execution_count": null,
      "metadata": {
        "id": "o5gotYpPPG4d"
      },
      "outputs": [],
      "source": [
        "nyc_streets_gdf = leafmap.df_to_gdf(nyc_streets_df, src_crs=\"EPSG:26918\", dst_crs=\"EPSG:4326\")\n",
        "nyc_streets_gdf.head()"
      ],
      "id": "o5gotYpPPG4d"
    },
    {
      "cell_type": "code",
      "execution_count": null,
      "metadata": {
        "id": "caxR7XaRPG4d"
      },
      "outputs": [],
      "source": [
        "nyc_streets_gdf.explore()"
      ],
      "id": "caxR7XaRPG4d"
    }
  ],
  "metadata": {
    "celltoolbar": "Tags",
    "hide_input": false,
    "kernelspec": {
      "display_name": "Python 3",
      "language": "python",
      "name": "python3"
    },
    "language_info": {
      "codemirror_mode": {
        "name": "ipython",
        "version": 3
      },
      "file_extension": ".py",
      "mimetype": "text/x-python",
      "name": "python",
      "nbconvert_exporter": "python",
      "pygments_lexer": "ipython3",
      "version": "3.11.6"
    },
    "toc": {
      "base_numbering": 1,
      "nav_menu": {},
      "number_sections": true,
      "sideBar": true,
      "skip_h1_title": false,
      "title_cell": "Table of Contents",
      "title_sidebar": "Contents",
      "toc_cell": false,
      "toc_position": {},
      "toc_section_display": true,
      "toc_window_display": false
    },
    "varInspector": {
      "cols": {
        "lenName": 16,
        "lenType": 16,
        "lenVar": 40
      },
      "kernels_config": {
        "python": {
          "delete_cmd_postfix": "",
          "delete_cmd_prefix": "del ",
          "library": "var_list.py",
          "varRefreshCmd": "print(var_dic_list())"
        },
        "r": {
          "delete_cmd_postfix": ") ",
          "delete_cmd_prefix": "rm(",
          "library": "var_list.r",
          "varRefreshCmd": "cat(var_dic_list()) "
        }
      },
      "types_to_exclude": [
        "module",
        "function",
        "builtin_function_or_method",
        "instance",
        "_Feature"
      ],
      "window_display": false
    },
    "colab": {
      "provenance": [],
      "include_colab_link": true
    }
  },
  "nbformat": 4,
  "nbformat_minor": 5
}